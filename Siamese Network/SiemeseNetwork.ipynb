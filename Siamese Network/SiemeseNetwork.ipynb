{
  "nbformat": 4,
  "nbformat_minor": 0,
  "metadata": {
    "colab": {
      "name": "SiemeseNetwork",
      "provenance": [],
      "collapsed_sections": []
    },
    "kernelspec": {
      "name": "python3",
      "display_name": "Python 3"
    },
    "language_info": {
      "name": "python"
    },
    "accelerator": "GPU"
  },
  "cells": [
    {
      "cell_type": "code",
      "metadata": {
        "colab": {
          "base_uri": "https://localhost:8080/"
        },
        "id": "KqJw8IushVwG",
        "outputId": "c90c924c-1aea-428a-9a56-68f6bc080e93"
      },
      "source": [
        "!pip install -q torch_snippets\n",
        "!wget -q https://www.dropbox.com/s/ua1rr8btkmpqjxh/face-detection.zip\n",
        "!unzip -q face-detection.zip\n"
      ],
      "execution_count": null,
      "outputs": [
        {
          "output_type": "stream",
          "name": "stdout",
          "text": [
            "\u001b[?25l\r\u001b[K     |███████▋                        | 10 kB 27.2 MB/s eta 0:00:01\r\u001b[K     |███████████████▏                | 20 kB 27.2 MB/s eta 0:00:01\r\u001b[K     |██████████████████████▊         | 30 kB 24.0 MB/s eta 0:00:01\r\u001b[K     |██████████████████████████████▍ | 40 kB 18.3 MB/s eta 0:00:01\r\u001b[K     |████████████████████████████████| 43 kB 1.4 MB/s \n",
            "\u001b[K     |████████████████████████████████| 57 kB 5.0 MB/s \n",
            "\u001b[K     |████████████████████████████████| 214 kB 42.5 MB/s \n",
            "\u001b[K     |████████████████████████████████| 10.1 MB 26.6 MB/s \n",
            "\u001b[K     |████████████████████████████████| 56 kB 4.9 MB/s \n",
            "\u001b[K     |████████████████████████████████| 51 kB 7.0 MB/s \n",
            "\u001b[?25h"
          ]
        }
      ]
    },
    {
      "cell_type": "code",
      "metadata": {
        "id": "619gNk_o5eTr"
      },
      "source": [
        "from torch_snippets import *\n",
        "import time\n",
        "import torch\n",
        "import torch.nn as nn\n",
        "import numpy\n",
        "import glob\n",
        "\n",
        "device = 'cuda' if torch.cuda.is_available() else 'cpu'"
      ],
      "execution_count": null,
      "outputs": []
    },
    {
      "cell_type": "code",
      "metadata": {
        "id": "C1NW3rpdh6Mw"
      },
      "source": [
        "class SiameseNetworkDataset(Dataset):\n",
        "    def __init__(self, folder, transform=None, should_invert=True):\n",
        "        self.folder = folder\n",
        "        self.items = Glob(f'{self.folder}/*/*') \n",
        "        self.transform = transform\n",
        "    def __getitem__(self, ix):\n",
        "        itemA = self.items[ix]\n",
        "        person = fname(parent(itemA))\n",
        "        same_person = randint(2)\n",
        "        if same_person:\n",
        "            itemB = choose(Glob(f'{self.folder}/{person}/*', silent=True))\n",
        "        else:\n",
        "            while True:\n",
        "                itemB = choose(self.items)\n",
        "                if person != fname(parent(itemB)):\n",
        "                    break\n",
        "        imgA = read(itemA)\n",
        "        imgB = read(itemB)\n",
        "        if self.transform:\n",
        "            imgA = self.transform(imgA)\n",
        "            imgB = self.transform(imgB)\n",
        "        return imgA, imgB, np.array([1-same_person])\n",
        "    def __len__(self):\n",
        "        return len(self.items)"
      ],
      "execution_count": null,
      "outputs": []
    },
    {
      "cell_type": "code",
      "metadata": {
        "colab": {
          "base_uri": "https://localhost:8080/"
        },
        "id": "tpEx1bDXh7Ng",
        "outputId": "03a58536-697f-4e0a-9714-8babf311d3e3"
      },
      "source": [
        "from torchvision import transforms\n",
        "\n",
        "trn_tfms = transforms.Compose([\n",
        "    transforms.ToPILImage(),\n",
        "    transforms.RandomHorizontalFlip(),\n",
        "    transforms.RandomAffine(5, (0.01,0.2),\n",
        "                            scale=(0.9,1.1)),\n",
        "    transforms.Resize((100,100)),\n",
        "    transforms.ToTensor(),\n",
        "    transforms.Normalize((0.5), (0.5))\n",
        "])\n",
        "\n",
        "val_tfms = transforms.Compose([\n",
        "    transforms.ToPILImage(),\n",
        "    transforms.Resize((100,100)),\n",
        "    transforms.ToTensor(),\n",
        "    transforms.Normalize((0.5), (0.5))\n",
        "])\n",
        "\n",
        "trn_ds = SiameseNetworkDataset(folder=\"./data/faces/training/\", transform=trn_tfms)\n",
        "val_ds = SiameseNetworkDataset(folder=\"./data/faces/testing/\", transform=val_tfms)\n",
        "\n",
        "trn_dl = DataLoader(trn_ds, shuffle=True, batch_size=64)\n",
        "val_dl = DataLoader(val_ds, shuffle=False, batch_size=64)"
      ],
      "execution_count": null,
      "outputs": [
        {
          "output_type": "stream",
          "name": "stderr",
          "text": [
            "2021-12-04 05:29:42.953 | INFO     | torch_snippets.paths:inner:24 - 370 files found at ./data/faces/training//*/*\n",
            "2021-12-04 05:29:42.959 | INFO     | torch_snippets.paths:inner:24 - 30 files found at ./data/faces/testing//*/*\n"
          ]
        }
      ]
    },
    {
      "cell_type": "code",
      "metadata": {
        "id": "MBEEB464k9jm"
      },
      "source": [
        "def convBlock(ni, no):\n",
        "    return nn.Sequential(\n",
        "        nn.Dropout(0.2),\n",
        "        nn.Conv2d(ni, no, kernel_size=3, padding=1, padding_mode='reflect'),\n",
        "        nn.ReLU(inplace=True),\n",
        "        nn.BatchNorm2d(no),\n",
        "    )"
      ],
      "execution_count": null,
      "outputs": []
    },
    {
      "cell_type": "code",
      "metadata": {
        "id": "dWKnjcoYk_K7"
      },
      "source": [
        "class SiameseNetwork(nn.Module):\n",
        "    def __init__(self):\n",
        "        super(SiameseNetwork, self).__init__()\n",
        "        self.features = nn.Sequential(\n",
        "            convBlock(1,4),\n",
        "            convBlock(4,8),\n",
        "            convBlock(8,8),\n",
        "            nn.Flatten(),\n",
        "            nn.Linear(8*100*100, 500), nn.ReLU(inplace=True),\n",
        "            nn.Linear(500, 500), nn.ReLU(inplace=True),\n",
        "            nn.Linear(500, 5)\n",
        "        )\n",
        "\n",
        "    def forward(self, input1, input2):\n",
        "        output1 = self.features(input1)\n",
        "        output2 = self.features(input2)\n",
        "        return output1, output2"
      ],
      "execution_count": null,
      "outputs": []
    },
    {
      "cell_type": "code",
      "metadata": {
        "id": "ZFdznaUvlIYG"
      },
      "source": [
        "class ContrastiveLoss(torch.nn.Module):\n",
        "    def __init__(self, margin=2.0):\n",
        "        super(ContrastiveLoss, self).__init__()\n",
        "        self.margin = margin\n",
        "    def forward(self, output1, output2, label):\n",
        "        euclidean_distance = F.pairwise_distance(output1, output2, keepdim = True)\n",
        "        loss_contrastive = torch.mean((1-label) * torch.pow(euclidean_distance, 2) +\n",
        "                                      (label) * torch.pow(torch.clamp(self.margin - euclidean_distance, min=0.0), 2))\n",
        "        acc = ((euclidean_distance > 0.6) == label).float().mean()\n",
        "        return loss_contrastive, acc"
      ],
      "execution_count": null,
      "outputs": []
    },
    {
      "cell_type": "code",
      "metadata": {
        "id": "uPvjk5OElUHZ"
      },
      "source": [
        "def train_batch(model, data, optimizer, criterion):\n",
        "    imgsA, imgsB, labels = [t.to(device) for t in data]\n",
        "    optimizer.zero_grad()\n",
        "    codesA, codesB = model(imgsA, imgsB)\n",
        "    loss, acc = criterion(codesA, codesB, labels)\n",
        "    loss.backward()\n",
        "    optimizer.step()\n",
        "    return loss.item(), acc.item()\n",
        "\n",
        "@torch.no_grad()\n",
        "def validate_batch(model, data, criterion):\n",
        "    imgsA, imgsB, labels = [t.to(device) for t in data]\n",
        "    codesA, codesB = model(imgsA, imgsB)\n",
        "    loss, acc = criterion(codesA, codesB, labels)\n",
        "    return loss.item(), acc.item()"
      ],
      "execution_count": null,
      "outputs": []
    },
    {
      "cell_type": "code",
      "metadata": {
        "id": "BUlhL0TqlZOT"
      },
      "source": [
        "model = SiameseNetwork().to(device)\n",
        "criterion = ContrastiveLoss()\n",
        "optimizer = optim.Adam(model.parameters(),lr = 0.001)"
      ],
      "execution_count": null,
      "outputs": []
    },
    {
      "cell_type": "code",
      "metadata": {
        "colab": {
          "base_uri": "https://localhost:8080/"
        },
        "id": "XLcom5IjnEDF",
        "outputId": "ff01c760-d888-4365-be45-48a50a6e95a2"
      },
      "source": [
        "n_epochs = 200\n",
        "Accuracy = []\n",
        "Loss = []\n",
        "for epoch in range(n_epochs):\n",
        "    print(epoch)\n",
        "    batch_acc, batch_loss = [], []\n",
        "    for i, data in enumerate(trn_dl):\n",
        "        loss, acc = train_batch(model, data, optimizer, criterion)\n",
        "        batch_loss.append(loss)\n",
        "        batch_acc.append(acc)\n",
        "    Accuracy.append(np.mean(batch_acc))\n",
        "    Loss.append(np.mean(batch_loss))\n",
        "    if (epoch == 10):\n",
        "        optimizer = optim.Adam(model.parameters(), lr= 0.0005)\n",
        "        "
      ],
      "execution_count": null,
      "outputs": [
        {
          "output_type": "stream",
          "name": "stdout",
          "text": [
            "0\n",
            "1\n",
            "2\n",
            "3\n",
            "4\n",
            "5\n",
            "6\n",
            "7\n",
            "8\n",
            "9\n",
            "10\n",
            "11\n",
            "12\n",
            "13\n",
            "14\n",
            "15\n",
            "16\n",
            "17\n",
            "18\n",
            "19\n",
            "20\n",
            "21\n",
            "22\n",
            "23\n",
            "24\n",
            "25\n",
            "26\n",
            "27\n",
            "28\n",
            "29\n",
            "30\n",
            "31\n",
            "32\n",
            "33\n",
            "34\n",
            "35\n",
            "36\n",
            "37\n",
            "38\n",
            "39\n",
            "40\n",
            "41\n",
            "42\n",
            "43\n",
            "44\n",
            "45\n",
            "46\n",
            "47\n",
            "48\n",
            "49\n",
            "50\n",
            "51\n",
            "52\n",
            "53\n",
            "54\n",
            "55\n",
            "56\n",
            "57\n",
            "58\n",
            "59\n",
            "60\n",
            "61\n",
            "62\n",
            "63\n",
            "64\n",
            "65\n",
            "66\n",
            "67\n",
            "68\n",
            "69\n",
            "70\n",
            "71\n",
            "72\n",
            "73\n",
            "74\n",
            "75\n",
            "76\n",
            "77\n",
            "78\n",
            "79\n",
            "80\n",
            "81\n",
            "82\n",
            "83\n",
            "84\n",
            "85\n",
            "86\n",
            "87\n",
            "88\n",
            "89\n",
            "90\n",
            "91\n",
            "92\n",
            "93\n",
            "94\n",
            "95\n",
            "96\n",
            "97\n",
            "98\n",
            "99\n",
            "100\n",
            "101\n",
            "102\n",
            "103\n",
            "104\n",
            "105\n",
            "106\n",
            "107\n",
            "108\n",
            "109\n",
            "110\n",
            "111\n",
            "112\n",
            "113\n",
            "114\n",
            "115\n",
            "116\n",
            "117\n",
            "118\n",
            "119\n",
            "120\n",
            "121\n",
            "122\n",
            "123\n",
            "124\n",
            "125\n",
            "126\n",
            "127\n",
            "128\n",
            "129\n",
            "130\n",
            "131\n",
            "132\n",
            "133\n",
            "134\n",
            "135\n",
            "136\n",
            "137\n",
            "138\n",
            "139\n",
            "140\n",
            "141\n",
            "142\n",
            "143\n",
            "144\n",
            "145\n",
            "146\n",
            "147\n",
            "148\n",
            "149\n",
            "150\n",
            "151\n",
            "152\n",
            "153\n",
            "154\n",
            "155\n",
            "156\n",
            "157\n",
            "158\n",
            "159\n",
            "160\n",
            "161\n",
            "162\n",
            "163\n",
            "164\n",
            "165\n",
            "166\n",
            "167\n",
            "168\n",
            "169\n",
            "170\n",
            "171\n",
            "172\n",
            "173\n",
            "174\n",
            "175\n",
            "176\n",
            "177\n",
            "178\n",
            "179\n",
            "180\n",
            "181\n",
            "182\n",
            "183\n",
            "184\n",
            "185\n",
            "186\n",
            "187\n",
            "188\n",
            "189\n",
            "190\n",
            "191\n",
            "192\n",
            "193\n",
            "194\n",
            "195\n",
            "196\n",
            "197\n",
            "198\n",
            "199\n"
          ]
        }
      ]
    },
    {
      "cell_type": "code",
      "metadata": {
        "colab": {
          "base_uri": "https://localhost:8080/",
          "height": 295
        },
        "id": "xnEMQgpbu2AO",
        "outputId": "568b469f-4e68-413e-ead2-10977729d1af"
      },
      "source": [
        "plt.plot(Loss)\n",
        "plt.title('Loss variation over increasing epochs')\n",
        "plt.xlabel('Epochs')\n",
        "plt.ylabel('Loss value')\n",
        "plt.show()"
      ],
      "execution_count": null,
      "outputs": [
        {
          "output_type": "display_data",
          "data": {
            "image/png": "[encoded data removed]",
            "text/plain": [
              "<Figure size 432x288 with 1 Axes>"
            ]
          },
          "metadata": {
            "needs_background": "light"
          }
        }
      ]
    },
    {
      "cell_type": "code",
      "metadata": {
        "colab": {
          "base_uri": "https://localhost:8080/",
          "height": 295
        },
        "id": "0yFUwkMau6pg",
        "outputId": "86f39d75-b0ea-4ab0-b28d-d6a722e88b11"
      },
      "source": [
        "plt.plot(Accuracy)\n",
        "plt.title('Accuracy variation over increasing epochs')\n",
        "plt.xlabel('Epochs')\n",
        "plt.ylabel('Accuracy Value')\n",
        "plt.show()"
      ],
      "execution_count": null,
      "outputs": [
        {
          "output_type": "display_data",
          "data": {
            "image/png": "[encoded data removed]",
            "text/plain": [
              "<Figure size 432x288 with 1 Axes>"
            ]
          },
          "metadata": {
            "needs_background": "light"
          }
        }
      ]
    },
    {
      "cell_type": "markdown",
      "metadata": {
        "id": "KSYWgWl95oGp"
      },
      "source": [
        "## Prediction 1"
      ]
    },
    {
      "cell_type": "code",
      "metadata": {
        "colab": {
          "base_uri": "https://localhost:8080/",
          "height": 263
        },
        "id": "Rdk8tgL9u7Vk",
        "outputId": "712d8f5b-c680-45db-f3ad-2dfe53ada175"
      },
      "source": [
        "img_1_path = '/content/data/faces/training/s19/2.pgm'\n",
        "img_2_path = '/content/data/faces/training/s19/4.pgm'\n",
        "\n",
        "img_1 = read(img_1_path)\n",
        "img_2 = read(img_2_path)\n",
        "\n",
        "show(img_1)\n",
        "show(img_2)\n",
        "\n",
        "img_1 = val_tfms(img_1)\n",
        "img_1 = img_1.view(-1, 1, 100, 100)\n",
        "img_2 = val_tfms(img_2)\n",
        "img_2 = img_2.view(-1, 1, 100, 100)"
      ],
      "execution_count": null,
      "outputs": [
        {
          "output_type": "display_data",
          "data": {
            "image/png": "[encoded data removed]",
            "text/plain": [
              "<Figure size 144x144 with 1 Axes>"
            ]
          },
          "metadata": {
            "needs_background": "light"
          }
        },
        {
          "output_type": "display_data",
          "data": {
            "image/png": "[encoded data removed]",
            "text/plain": [
              "<Figure size 144x144 with 1 Axes>"
            ]
          },
          "metadata": {
            "needs_background": "light"
          }
        }
      ]
    },
    {
      "cell_type": "code",
      "metadata": {
        "colab": {
          "base_uri": "https://localhost:8080/"
        },
        "id": "PyqO_StQ4zmO",
        "outputId": "41723fb0-6d6e-407a-e7a4-ed192ff24532"
      },
      "source": [
        "model.eval()\n",
        "start = time.time()\n",
        "output_1, output_2 = model(img_1.cuda(), img_2.cuda())\n",
        "euclidean_distance = F.pairwise_distance(output_1, output_2)\n",
        "end = time.time()\n",
        "print(euclidean_distance.item())\n",
        "print(\"Time\", end-start)"
      ],
      "execution_count": null,
      "outputs": [
        {
          "output_type": "stream",
          "name": "stdout",
          "text": [
            "0.2645741403102875\n",
            "Time 0.00954890251159668\n"
          ]
        }
      ]
    },
    {
      "cell_type": "code",
      "metadata": {
        "colab": {
          "base_uri": "https://localhost:8080/",
          "height": 263
        },
        "id": "6B7VQtBODmRy",
        "outputId": "26d78037-d274-4088-f29d-39e930eef34e"
      },
      "source": [
        "img_1_path = '/content/data/faces/testing/s5/1.pgm'\n",
        "img_2_path = '/content/data/faces/testing/s6/2.pgm'\n",
        "\n",
        "img_1 = read(img_1_path)\n",
        "img_2 = read(img_2_path)\n",
        "\n",
        "show(img_1)\n",
        "show(img_2)\n",
        "\n",
        "img_1 = val_tfms(img_1)\n",
        "img_1 = img_1.view(-1, 1, 100, 100)\n",
        "img_2 = val_tfms(img_2)\n",
        "img_2 = img_2.view(-1, 1, 100, 100)"
      ],
      "execution_count": null,
      "outputs": [
        {
          "output_type": "display_data",
          "data": {
            "image/png": "[encoded data removed]",
            "text/plain": [
              "<Figure size 144x144 with 1 Axes>"
            ]
          },
          "metadata": {
            "needs_background": "light"
          }
        },
        {
          "output_type": "display_data",
          "data": {
            "image/png": "[encoded data removed]",
            "text/plain": [
              "<Figure size 144x144 with 1 Axes>"
            ]
          },
          "metadata": {
            "needs_background": "light"
          }
        }
      ]
    },
    {
      "cell_type": "code",
      "metadata": {
        "colab": {
          "base_uri": "https://localhost:8080/"
        },
        "id": "Ao11yBdXEaYJ",
        "outputId": "f5c3a551-d362-4467-a520-c28fb35d1aaa"
      },
      "source": [
        "model.eval()\n",
        "\n",
        "start = time.time()\n",
        "output_1, output_2 = model(img_1.cuda(), img_2.cuda())\n",
        "euclidean_distance = F.pairwise_distance(output_1, output_2)\n",
        "end = time.time()\n",
        "print(euclidean_distance.item())\n",
        "print(\"Time\", end-start)"
      ],
      "execution_count": null,
      "outputs": [
        {
          "output_type": "stream",
          "name": "stdout",
          "text": [
            "1.075964093208313\n",
            "Time 0.009416341781616211\n"
          ]
        }
      ]
    }
  ]
}